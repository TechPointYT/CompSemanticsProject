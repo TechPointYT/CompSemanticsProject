{
 "cells": [
  {
   "cell_type": "code",
   "execution_count": 1,
   "metadata": {},
   "outputs": [],
   "source": [
    "from sklearn.model_selection import train_test_split\n",
    "from sklearn.naive_bayes import MultinomialNB\n",
    "import numpy as np\n",
    "from sklearn.datasets import load_files\n",
    "from sklearn import metrics\n",
    "from sklearn.feature_extraction.text import CountVectorizer\n",
    "from tqdm import tqdm\n",
    "from sklearn.feature_selection import RFE\n",
    "from sklearn.feature_extraction import DictVectorizer\n",
    "import pandas as pd\n",
    "from nltk.tokenize import word_tokenize\n",
    "from collections import Counter\n"
   ]
  },
  {
   "cell_type": "code",
   "execution_count": 2,
   "metadata": {},
   "outputs": [],
   "source": [
    "# load data using sklearn.datasets.load_files\n",
    "dataset = load_files(\"American-text-whole/\")\n",
    "\n",
    "# split the data into train and test\n",
    "docs_train, docs_test, y_train, y_test = train_test_split(\n",
    "dataset.data, dataset.target, test_size = 0.2, random_state = 3)\n",
    "\n"
   ]
  },
  {
   "cell_type": "code",
   "execution_count": 14,
   "metadata": {},
   "outputs": [
    {
     "data": {
      "text/plain": [
       "['19', '20']"
      ]
     },
     "execution_count": 14,
     "metadata": {},
     "output_type": "execute_result"
    }
   ],
   "source": [
    "print(docs_train.)"
   ]
  },
  {
   "cell_type": "code",
   "execution_count": 34,
   "metadata": {},
   "outputs": [],
   "source": [
    "#crea\n",
    "from nltk.tokenize import word_tokenize\n",
    "from collections import Counter\n",
    "\n",
    "features = [\"whom\", \"who\",\"unto\",\"forth\",\"nigh\"]\n",
    "feature_df = pd.DataFrame([], columns = features)\n",
    "feature_col = {}\n",
    "for doc in range(len(docs_train)):\n",
    "    counts = Counter(word_tokenize(str(docs_train[doc]).lower()))  \n",
    "    #print(\"\"+str(counts[\"whom\"])+\" \"+str(counts[\"who\"])+ \" \"+ str(counts[\"unto\"])+\" \"+str(counts[\"forth\"])+\" \"+str(counts[\"nigh\"]))\n",
    "    feature_col[str(doc)]= [counts[\"whom\"],counts[\"who\"], counts[\"unto\"],counts[\"forth\"],counts[\"nigh\"]]\n",
    "\n",
    "  \n",
    "    \n"
   ]
  },
  {
   "cell_type": "code",
   "execution_count": 36,
   "metadata": {},
   "outputs": [],
   "source": [
    "#create DF for with features\n",
    "feature_df = pd.DataFrame(feature_col)\n",
    "feature_df = feature_df.transpose()\n",
    "features = [\"whom\", \"who\",\"unto\",\"forth\",\"nigh\"]\n",
    "feature_df.columns = features\n"
   ]
  },
  {
   "cell_type": "code",
   "execution_count": 37,
   "metadata": {},
   "outputs": [],
   "source": [
    "#add classes\n",
    "feature_df[\"class\"] = y_train\n",
    "feature_df.to_pickle(\"feature-counts-DF.pkl\")"
   ]
  },
  {
   "cell_type": "code",
   "execution_count": 7,
   "metadata": {},
   "outputs": [],
   "source": [
    "# vectorize the training data\n",
    "vocab={\"whom\":0, \"who\":1,\"unto\":2,\"forth\":3,\"nigh\":4}\n",
    "vectorizer = CountVectorizer(stop_words = None, vocabulary=vocab)\n",
    "X_train = vectorizer.fit_transform(docs_train)"
   ]
  },
  {
   "cell_type": "code",
   "execution_count": 8,
   "metadata": {},
   "outputs": [],
   "source": [
    "# vectorize the test data and predict \n",
    "X_test = vectorizer.transform(docs_test)"
   ]
  },
  {
   "cell_type": "code",
   "execution_count": 9,
   "metadata": {},
   "outputs": [],
   "source": [
    "# YOUR CODE HERE\n",
    "from sklearn.linear_model import LogisticRegression \n",
    "\n",
    "random_state = 3\n",
    "LR = LogisticRegression(random_state = 3)\n",
    "LR.fit(X_train, y_train)\n",
    "y_hat_lr = LR.predict(X_test) \n",
    "\n"
   ]
  },
  {
   "cell_type": "code",
   "execution_count": 10,
   "metadata": {},
   "outputs": [
    {
     "name": "stdout",
     "output_type": "stream",
     "text": [
      "lr_model accuracy is :  0.8225331369661266\n",
      "classification report:\n",
      "               precision    recall  f1-score   support\n",
      "\n",
      "           0       0.74      0.38      0.50       321\n",
      "           1       0.83      0.96      0.89      1037\n",
      "\n",
      "    accuracy                           0.82      1358\n",
      "   macro avg       0.79      0.67      0.70      1358\n",
      "weighted avg       0.81      0.82      0.80      1358\n",
      "\n"
     ]
    }
   ],
   "source": [
    "print(\"lr_model accuracy is : \", metrics.accuracy_score(y_test, y_hat_lr))\n",
    "print(\"classification report:\\n\", metrics.classification_report(y_test, y_hat_lr))\n",
    "accuracy_score_lr =  metrics.accuracy_score(y_test, y_hat_lr)"
   ]
  },
  {
   "cell_type": "code",
   "execution_count": null,
   "metadata": {},
   "outputs": [],
   "source": []
  }
 ],
 "metadata": {
  "kernelspec": {
   "display_name": "Python 3",
   "language": "python",
   "name": "python3"
  },
  "language_info": {
   "codemirror_mode": {
    "name": "ipython",
    "version": 3
   },
   "file_extension": ".py",
   "mimetype": "text/x-python",
   "name": "python",
   "nbconvert_exporter": "python",
   "pygments_lexer": "ipython3",
   "version": "3.7.4"
  }
 },
 "nbformat": 4,
 "nbformat_minor": 2
}
